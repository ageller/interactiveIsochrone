{
 "cells": [
  {
   "cell_type": "markdown",
   "id": "751892de",
   "metadata": {},
   "source": [
    "# Testing the Bokeh script"
   ]
  },
  {
   "cell_type": "code",
   "execution_count": 1,
   "id": "50debab7",
   "metadata": {},
   "outputs": [],
   "source": [
    "from bokeh.plotting import *"
   ]
  },
  {
   "cell_type": "code",
   "execution_count": 2,
   "id": "1b4867f0",
   "metadata": {},
   "outputs": [],
   "source": [
    "import matplotlib.pyplot as plt\n",
    "\n",
    "%matplotlib inline"
   ]
  },
  {
   "cell_type": "code",
   "execution_count": 8,
   "id": "2f90c618",
   "metadata": {
    "scrolled": true
   },
   "outputs": [
    {
     "name": "stdout",
     "output_type": "stream",
     "text": [
      "The autoreload extension is already loaded. To reload it, use:\n",
      "  %reload_ext autoreload\n"
     ]
    }
   ],
   "source": [
    "%load_ext autoreload\n",
    "%autoreload 2\n",
    "\n",
    "from interactiveIsochrone import createInteractiveIsochrone, getModelGrid, interpolateModel"
   ]
  },
  {
   "cell_type": "code",
   "execution_count": 4,
   "id": "790fb4ac",
   "metadata": {},
   "outputs": [],
   "source": [
    "import numpy as np"
   ]
  },
  {
   "cell_type": "code",
   "execution_count": 181,
   "id": "49b5195c",
   "metadata": {},
   "outputs": [],
   "source": [
    "df = interpolateModel(np.log10(7e9), 0.5, 'PARSEC.model')"
   ]
  },
  {
   "cell_type": "code",
   "execution_count": 182,
   "id": "14969cd8",
   "metadata": {},
   "outputs": [
    {
     "data": {
      "image/png": "[encoded data removed]",
      "text/plain": [
       "<Figure size 432x288 with 1 Axes>"
      ]
     },
     "metadata": {
      "needs_background": "light"
     },
     "output_type": "display_data"
    }
   ],
   "source": [
    "f, ax = plt.subplots()\n",
    "ax.plot(df['phot_bp_mean_mag'] - df['phot_rp_mean_mag'], df['phot_g_mean_mag'], '.')\n",
    "plt.gca().invert_yaxis()"
   ]
  },
  {
   "cell_type": "code",
   "execution_count": 112,
   "id": "2f3184ef",
   "metadata": {},
   "outputs": [
    {
     "data": {
      "text/html": [
       "\n",
       "    <div class=\"bk-root\">\n",
       "        <a href=\"https://bokeh.org\" target=\"_blank\" class=\"bk-logo bk-logo-small bk-logo-notebook\"></a>\n",
       "        <span id=\"1002\">Loading BokehJS ...</span>\n",
       "    </div>"
      ]
     },
     "metadata": {},
     "output_type": "display_data"
    },
    {
     "data": {
      "application/javascript": [
       "\n",
       "(function(root) {\n",
       "  function now() {\n",
       "    return new Date();\n",
       "  }\n",
       "\n",
       "  const force = true;\n",
       "\n",
       "  if (typeof root._bokeh_onload_callbacks === \"undefined\" || force === true) {\n",
       "    root._bokeh_onload_callbacks = [];\n",
       "    root._bokeh_is_loading = undefined;\n",
       "  }\n",
       "\n",
       "  const JS_MIME_TYPE = 'application/javascript';\n",
       "  const HTML_MIME_TYPE = 'text/html';\n",
       "  const EXEC_MIME_TYPE = 'application/vnd.bokehjs_exec.v0+json';\n",
       "  const CLASS_NAME = 'output_bokeh rendered_html';\n",
       "\n",
       "  /**\n",
       "   * Render data to the DOM node\n",
       "   */\n",
       "  function render(props, node) {\n",
       "    const script = document.createElement(\"script\");\n",
       "    node.appendChild(script);\n",
       "  }\n",
       "\n",
       "  /**\n",
       "   * Handle when an output is cleared or removed\n",
       "   */\n",
       "  function handleClearOutput(event, handle) {\n",
       "    const cell = handle.cell;\n",
       "\n",
       "    const id = cell.output_area._bokeh_element_id;\n",
       "    const server_id = cell.output_area._bokeh_server_id;\n",
       "    // Clean up Bokeh references\n",
       "    if (id != null && id in Bokeh.index) {\n",
       "      Bokeh.index[id].model.document.clear();\n",
       "      delete Bokeh.index[id];\n",
       "    }\n",
       "\n",
       "    if (server_id !== undefined) {\n",
       "      // Clean up Bokeh references\n",
       "      const cmd_clean = \"from bokeh.io.state import curstate; print(curstate().uuid_to_server['\" + server_id + \"'].get_sessions()[0].document.roots[0]._id)\";\n",
       "      cell.notebook.kernel.execute(cmd_clean, {\n",
       "        iopub: {\n",
       "          output: function(msg) {\n",
       "            const id = msg.content.text.trim();\n",
       "            if (id in Bokeh.index) {\n",
       "              Bokeh.index[id].model.document.clear();\n",
       "              delete Bokeh.index[id];\n",
       "            }\n",
       "          }\n",
       "        }\n",
       "      });\n",
       "      // Destroy server and session\n",
       "      const cmd_destroy = \"import bokeh.io.notebook as ion; ion.destroy_server('\" + server_id + \"')\";\n",
       "      cell.notebook.kernel.execute(cmd_destroy);\n",
       "    }\n",
       "  }\n",
       "\n",
       "  /**\n",
       "   * Handle when a new output is added\n",
       "   */\n",
       "  function handleAddOutput(event, handle) {\n",
       "    const output_area = handle.output_area;\n",
       "    const output = handle.output;\n",
       "\n",
       "    // limit handleAddOutput to display_data with EXEC_MIME_TYPE content only\n",
       "    if ((output.output_type != \"display_data\") || (!Object.prototype.hasOwnProperty.call(output.data, EXEC_MIME_TYPE))) {\n",
       "      return\n",
       "    }\n",
       "\n",
       "    const toinsert = output_area.element.find(\".\" + CLASS_NAME.split(' ')[0]);\n",
       "\n",
       "    if (output.metadata[EXEC_MIME_TYPE][\"id\"] !== undefined) {\n",
       "      toinsert[toinsert.length - 1].firstChild.textContent = output.data[JS_MIME_TYPE];\n",
       "      // store reference to embed id on output_area\n",
       "      output_area._bokeh_element_id = output.metadata[EXEC_MIME_TYPE][\"id\"];\n",
       "    }\n",
       "    if (output.metadata[EXEC_MIME_TYPE][\"server_id\"] !== undefined) {\n",
       "      const bk_div = document.createElement(\"div\");\n",
       "      bk_div.innerHTML = output.data[HTML_MIME_TYPE];\n",
       "      const script_attrs = bk_div.children[0].attributes;\n",
       "      for (let i = 0; i < script_attrs.length; i++) {\n",
       "        toinsert[toinsert.length - 1].firstChild.setAttribute(script_attrs[i].name, script_attrs[i].value);\n",
       "        toinsert[toinsert.length - 1].firstChild.textContent = bk_div.children[0].textContent\n",
       "      }\n",
       "      // store reference to server id on output_area\n",
       "      output_area._bokeh_server_id = output.metadata[EXEC_MIME_TYPE][\"server_id\"];\n",
       "    }\n",
       "  }\n",
       "\n",
       "  function register_renderer(events, OutputArea) {\n",
       "\n",
       "    function append_mime(data, metadata, element) {\n",
       "      // create a DOM node to render to\n",
       "      const toinsert = this.create_output_subarea(\n",
       "        metadata,\n",
       "        CLASS_NAME,\n",
       "        EXEC_MIME_TYPE\n",
       "      );\n",
       "      this.keyboard_manager.register_events(toinsert);\n",
       "      // Render to node\n",
       "      const props = {data: data, metadata: metadata[EXEC_MIME_TYPE]};\n",
       "      render(props, toinsert[toinsert.length - 1]);\n",
       "      element.append(toinsert);\n",
       "      return toinsert\n",
       "    }\n",
       "\n",
       "    /* Handle when an output is cleared or removed */\n",
       "    events.on('clear_output.CodeCell', handleClearOutput);\n",
       "    events.on('delete.Cell', handleClearOutput);\n",
       "\n",
       "    /* Handle when a new output is added */\n",
       "    events.on('output_added.OutputArea', handleAddOutput);\n",
       "\n",
       "    /**\n",
       "     * Register the mime type and append_mime function with output_area\n",
       "     */\n",
       "    OutputArea.prototype.register_mime_type(EXEC_MIME_TYPE, append_mime, {\n",
       "      /* Is output safe? */\n",
       "      safe: true,\n",
       "      /* Index of renderer in `output_area.display_order` */\n",
       "      index: 0\n",
       "    });\n",
       "  }\n",
       "\n",
       "  // register the mime type if in Jupyter Notebook environment and previously unregistered\n",
       "  if (root.Jupyter !== undefined) {\n",
       "    const events = require('base/js/events');\n",
       "    const OutputArea = require('notebook/js/outputarea').OutputArea;\n",
       "\n",
       "    if (OutputArea.prototype.mime_types().indexOf(EXEC_MIME_TYPE) == -1) {\n",
       "      register_renderer(events, OutputArea);\n",
       "    }\n",
       "  }\n",
       "\n",
       "  \n",
       "  if (typeof (root._bokeh_timeout) === \"undefined\" || force === true) {\n",
       "    root._bokeh_timeout = Date.now() + 5000;\n",
       "    root._bokeh_failed_load = false;\n",
       "  }\n",
       "\n",
       "  const NB_LOAD_WARNING = {'data': {'text/html':\n",
       "     \"<div style='background-color: #fdd'>\\n\"+\n",
       "     \"<p>\\n\"+\n",
       "     \"BokehJS does not appear to have successfully loaded. If loading BokehJS from CDN, this \\n\"+\n",
       "     \"may be due to a slow or bad network connection. Possible fixes:\\n\"+\n",
       "     \"</p>\\n\"+\n",
       "     \"<ul>\\n\"+\n",
       "     \"<li>re-rerun `output_notebook()` to attempt to load from CDN again, or</li>\\n\"+\n",
       "     \"<li>use INLINE resources instead, as so:</li>\\n\"+\n",
       "     \"</ul>\\n\"+\n",
       "     \"<code>\\n\"+\n",
       "     \"from bokeh.resources import INLINE\\n\"+\n",
       "     \"output_notebook(resources=INLINE)\\n\"+\n",
       "     \"</code>\\n\"+\n",
       "     \"</div>\"}};\n",
       "\n",
       "  function display_loaded() {\n",
       "    const el = document.getElementById(\"1002\");\n",
       "    if (el != null) {\n",
       "      el.textContent = \"BokehJS is loading...\";\n",
       "    }\n",
       "    if (root.Bokeh !== undefined) {\n",
       "      if (el != null) {\n",
       "        el.textContent = \"BokehJS \" + root.Bokeh.version + \" successfully loaded.\";\n",
       "      }\n",
       "    } else if (Date.now() < root._bokeh_timeout) {\n",
       "      setTimeout(display_loaded, 100)\n",
       "    }\n",
       "  }\n",
       "\n",
       "\n",
       "  function run_callbacks() {\n",
       "    try {\n",
       "      root._bokeh_onload_callbacks.forEach(function(callback) {\n",
       "        if (callback != null)\n",
       "          callback();\n",
       "      });\n",
       "    } finally {\n",
       "      delete root._bokeh_onload_callbacks\n",
       "    }\n",
       "    console.debug(\"Bokeh: all callbacks have finished\");\n",
       "  }\n",
       "\n",
       "  function load_libs(css_urls, js_urls, callback) {\n",
       "    if (css_urls == null) css_urls = [];\n",
       "    if (js_urls == null) js_urls = [];\n",
       "\n",
       "    root._bokeh_onload_callbacks.push(callback);\n",
       "    if (root._bokeh_is_loading > 0) {\n",
       "      console.debug(\"Bokeh: BokehJS is being loaded, scheduling callback at\", now());\n",
       "      return null;\n",
       "    }\n",
       "    if (js_urls == null || js_urls.length === 0) {\n",
       "      run_callbacks();\n",
       "      return null;\n",
       "    }\n",
       "    console.debug(\"Bokeh: BokehJS not loaded, scheduling load and callback at\", now());\n",
       "    root._bokeh_is_loading = css_urls.length + js_urls.length;\n",
       "\n",
       "    function on_load() {\n",
       "      root._bokeh_is_loading--;\n",
       "      if (root._bokeh_is_loading === 0) {\n",
       "        console.debug(\"Bokeh: all BokehJS libraries/stylesheets loaded\");\n",
       "        run_callbacks()\n",
       "      }\n",
       "    }\n",
       "\n",
       "    function on_error(url) {\n",
       "      console.error(\"failed to load \" + url);\n",
       "    }\n",
       "\n",
       "    for (let i = 0; i < css_urls.length; i++) {\n",
       "      const url = css_urls[i];\n",
       "      const element = document.createElement(\"link\");\n",
       "      element.onload = on_load;\n",
       "      element.onerror = on_error.bind(null, url);\n",
       "      element.rel = \"stylesheet\";\n",
       "      element.type = \"text/css\";\n",
       "      element.href = url;\n",
       "      console.debug(\"Bokeh: injecting link tag for BokehJS stylesheet: \", url);\n",
       "      document.body.appendChild(element);\n",
       "    }\n",
       "\n",
       "    for (let i = 0; i < js_urls.length; i++) {\n",
       "      const url = js_urls[i];\n",
       "      const element = document.createElement('script');\n",
       "      element.onload = on_load;\n",
       "      element.onerror = on_error.bind(null, url);\n",
       "      element.async = false;\n",
       "      element.src = url;\n",
       "      console.debug(\"Bokeh: injecting script tag for BokehJS library: \", url);\n",
       "      document.head.appendChild(element);\n",
       "    }\n",
       "  };\n",
       "\n",
       "  function inject_raw_css(css) {\n",
       "    const element = document.createElement(\"style\");\n",
       "    element.appendChild(document.createTextNode(css));\n",
       "    document.body.appendChild(element);\n",
       "  }\n",
       "\n",
       "  \n",
       "  const js_urls = [\"https://cdn.bokeh.org/bokeh/release/bokeh-2.4.2.min.js\", \"https://cdn.bokeh.org/bokeh/release/bokeh-gl-2.4.2.min.js\", \"https://cdn.bokeh.org/bokeh/release/bokeh-widgets-2.4.2.min.js\", \"https://cdn.bokeh.org/bokeh/release/bokeh-tables-2.4.2.min.js\", \"https://cdn.bokeh.org/bokeh/release/bokeh-mathjax-2.4.2.min.js\"];\n",
       "  const css_urls = [];\n",
       "  \n",
       "\n",
       "  const inline_js = [\n",
       "    function(Bokeh) {\n",
       "      Bokeh.set_log_level(\"info\");\n",
       "    },\n",
       "    function(Bokeh) {\n",
       "    \n",
       "    \n",
       "    }\n",
       "  ];\n",
       "\n",
       "  function run_inline_js() {\n",
       "    \n",
       "    if (root.Bokeh !== undefined || force === true) {\n",
       "      \n",
       "    for (let i = 0; i < inline_js.length; i++) {\n",
       "      inline_js[i].call(root, root.Bokeh);\n",
       "    }\n",
       "    if (force === true) {\n",
       "        display_loaded();\n",
       "      }} else if (Date.now() < root._bokeh_timeout) {\n",
       "      setTimeout(run_inline_js, 100);\n",
       "    } else if (!root._bokeh_failed_load) {\n",
       "      console.log(\"Bokeh: BokehJS failed to load within specified timeout.\");\n",
       "      root._bokeh_failed_load = true;\n",
       "    } else if (force !== true) {\n",
       "      const cell = $(document.getElementById(\"1002\")).parents('.cell').data().cell;\n",
       "      cell.output_area.append_execute_result(NB_LOAD_WARNING)\n",
       "    }\n",
       "\n",
       "  }\n",
       "\n",
       "  if (root._bokeh_is_loading === 0) {\n",
       "    console.debug(\"Bokeh: BokehJS loaded, going straight to plotting\");\n",
       "    run_inline_js();\n",
       "  } else {\n",
       "    load_libs(css_urls, js_urls, function() {\n",
       "      console.debug(\"Bokeh: BokehJS plotting callback run at\", now());\n",
       "      run_inline_js();\n",
       "    });\n",
       "  }\n",
       "}(window));"
      ],
      "application/vnd.bokehjs_load.v0+json": "\n(function(root) {\n  function now() {\n    return new Date();\n  }\n\n  const force = true;\n\n  if (typeof root._bokeh_onload_callbacks === \"undefined\" || force === true) {\n    root._bokeh_onload_callbacks = [];\n    root._bokeh_is_loading = undefined;\n  }\n\n  \n\n  \n  if (typeof (root._bokeh_timeout) === \"undefined\" || force === true) {\n    root._bokeh_timeout = Date.now() + 5000;\n    root._bokeh_failed_load = false;\n  }\n\n  const NB_LOAD_WARNING = {'data': {'text/html':\n     \"<div style='background-color: #fdd'>\\n\"+\n     \"<p>\\n\"+\n     \"BokehJS does not appear to have successfully loaded. If loading BokehJS from CDN, this \\n\"+\n     \"may be due to a slow or bad network connection. Possible fixes:\\n\"+\n     \"</p>\\n\"+\n     \"<ul>\\n\"+\n     \"<li>re-rerun `output_notebook()` to attempt to load from CDN again, or</li>\\n\"+\n     \"<li>use INLINE resources instead, as so:</li>\\n\"+\n     \"</ul>\\n\"+\n     \"<code>\\n\"+\n     \"from bokeh.resources import INLINE\\n\"+\n     \"output_notebook(resources=INLINE)\\n\"+\n     \"</code>\\n\"+\n     \"</div>\"}};\n\n  function display_loaded() {\n    const el = document.getElementById(\"1002\");\n    if (el != null) {\n      el.textContent = \"BokehJS is loading...\";\n    }\n    if (root.Bokeh !== undefined) {\n      if (el != null) {\n        el.textContent = \"BokehJS \" + root.Bokeh.version + \" successfully loaded.\";\n      }\n    } else if (Date.now() < root._bokeh_timeout) {\n      setTimeout(display_loaded, 100)\n    }\n  }\n\n\n  function run_callbacks() {\n    try {\n      root._bokeh_onload_callbacks.forEach(function(callback) {\n        if (callback != null)\n          callback();\n      });\n    } finally {\n      delete root._bokeh_onload_callbacks\n    }\n    console.debug(\"Bokeh: all callbacks have finished\");\n  }\n\n  function load_libs(css_urls, js_urls, callback) {\n    if (css_urls == null) css_urls = [];\n    if (js_urls == null) js_urls = [];\n\n    root._bokeh_onload_callbacks.push(callback);\n    if (root._bokeh_is_loading > 0) {\n      console.debug(\"Bokeh: BokehJS is being loaded, scheduling callback at\", now());\n      return null;\n    }\n    if (js_urls == null || js_urls.length === 0) {\n      run_callbacks();\n      return null;\n    }\n    console.debug(\"Bokeh: BokehJS not loaded, scheduling load and callback at\", now());\n    root._bokeh_is_loading = css_urls.length + js_urls.length;\n\n    function on_load() {\n      root._bokeh_is_loading--;\n      if (root._bokeh_is_loading === 0) {\n        console.debug(\"Bokeh: all BokehJS libraries/stylesheets loaded\");\n        run_callbacks()\n      }\n    }\n\n    function on_error(url) {\n      console.error(\"failed to load \" + url);\n    }\n\n    for (let i = 0; i < css_urls.length; i++) {\n      const url = css_urls[i];\n      const element = document.createElement(\"link\");\n      element.onload = on_load;\n      element.onerror = on_error.bind(null, url);\n      element.rel = \"stylesheet\";\n      element.type = \"text/css\";\n      element.href = url;\n      console.debug(\"Bokeh: injecting link tag for BokehJS stylesheet: \", url);\n      document.body.appendChild(element);\n    }\n\n    for (let i = 0; i < js_urls.length; i++) {\n      const url = js_urls[i];\n      const element = document.createElement('script');\n      element.onload = on_load;\n      element.onerror = on_error.bind(null, url);\n      element.async = false;\n      element.src = url;\n      console.debug(\"Bokeh: injecting script tag for BokehJS library: \", url);\n      document.head.appendChild(element);\n    }\n  };\n\n  function inject_raw_css(css) {\n    const element = document.createElement(\"style\");\n    element.appendChild(document.createTextNode(css));\n    document.body.appendChild(element);\n  }\n\n  \n  const js_urls = [\"https://cdn.bokeh.org/bokeh/release/bokeh-2.4.2.min.js\", \"https://cdn.bokeh.org/bokeh/release/bokeh-gl-2.4.2.min.js\", \"https://cdn.bokeh.org/bokeh/release/bokeh-widgets-2.4.2.min.js\", \"https://cdn.bokeh.org/bokeh/release/bokeh-tables-2.4.2.min.js\", \"https://cdn.bokeh.org/bokeh/release/bokeh-mathjax-2.4.2.min.js\"];\n  const css_urls = [];\n  \n\n  const inline_js = [\n    function(Bokeh) {\n      Bokeh.set_log_level(\"info\");\n    },\n    function(Bokeh) {\n    \n    \n    }\n  ];\n\n  function run_inline_js() {\n    \n    if (root.Bokeh !== undefined || force === true) {\n      \n    for (let i = 0; i < inline_js.length; i++) {\n      inline_js[i].call(root, root.Bokeh);\n    }\n    if (force === true) {\n        display_loaded();\n      }} else if (Date.now() < root._bokeh_timeout) {\n      setTimeout(run_inline_js, 100);\n    } else if (!root._bokeh_failed_load) {\n      console.log(\"Bokeh: BokehJS failed to load within specified timeout.\");\n      root._bokeh_failed_load = true;\n    } else if (force !== true) {\n      const cell = $(document.getElementById(\"1002\")).parents('.cell').data().cell;\n      cell.output_area.append_execute_result(NB_LOAD_WARNING)\n    }\n\n  }\n\n  if (root._bokeh_is_loading === 0) {\n    console.debug(\"Bokeh: BokehJS loaded, going straight to plotting\");\n    run_inline_js();\n  } else {\n    load_libs(css_urls, js_urls, function() {\n      console.debug(\"Bokeh: BokehJS plotting callback run at\", now());\n      run_inline_js();\n    });\n  }\n}(window));"
     },
     "metadata": {},
     "output_type": "display_data"
    }
   ],
   "source": [
    "output_notebook() # run in the notebook"
   ]
  },
  {
   "cell_type": "code",
   "execution_count": 194,
   "id": "24391e21",
   "metadata": {
    "scrolled": false
   },
   "outputs": [
    {
     "data": {
      "application/vnd.bokehjs_exec.v0+json": "",
      "text/html": [
       "\n",
       "<script id=\"11139\">\n",
       "  (function() {\n",
       "    const xhr = new XMLHttpRequest()\n",
       "    xhr.responseType = 'blob';\n",
       "    xhr.open('GET', \"http://localhost:56371/autoload.js?bokeh-autoload-element=11139&bokeh-absolute-url=http://localhost:56371&resources=none\", true);\n",
       "    \n",
       "    xhr.onload = function (event) {\n",
       "      const script = document.createElement('script');\n",
       "      const src = URL.createObjectURL(event.target.response);\n",
       "      script.src = src;\n",
       "      document.body.appendChild(script);\n",
       "    };\n",
       "    xhr.send();\n",
       "  })();\n",
       "</script>"
      ]
     },
     "metadata": {
      "application/vnd.bokehjs_exec.v0+json": {
       "server_id": "763cdeb70ea94ed39839e10c9327adea"
      }
     },
     "output_type": "display_data"
    },
    {
     "name": "stdout",
     "output_type": "stream",
     "text": [
      "File saved :  NGC188_Gaia_r1deg.ecsv_new.ecsv\n"
     ]
    }
   ],
   "source": [
    "layout = createInteractiveIsochrone('NGC188_Gaia_r1deg.ecsv', 'PARSEC.model', initialGuess = [np.log10(6e9), 0, 11, 0.2],\n",
    "                                   mag = 'phot_g_mean_mag', color1 = 'phot_bp_mean_mag', color2 = 'phot_rp_mean_mag')\n",
    "\n",
    "# in order to run a Python callback in a Jupyter notbook, you need to include the following\n",
    "def bkapp(doc):\n",
    "    doc.add_root(layout)\n",
    "\n",
    "show(bkapp)"
   ]
  },
  {
   "cell_type": "code",
   "execution_count": null,
   "id": "cc165ba9",
   "metadata": {},
   "outputs": [],
   "source": [
    "from astropy.io import ascii"
   ]
  },
  {
   "cell_type": "code",
   "execution_count": 122,
   "id": "c9727d64",
   "metadata": {},
   "outputs": [
    {
     "data": {
      "text/html": [
       "<div><i>Table length=32956</i>\n",
       "<table id=\"table1261490796192\" class=\"table-striped table-bordered table-condensed\">\n",
       "<thead><tr><th>source_id</th><th>ra</th><th>dec</th><th>pmra</th><th>pmdec</th><th>radial_velocity</th><th>phot_g_mean_mag</th><th>phot_g_mean_flux_over_error</th><th>phot_bp_mean_mag</th><th>phot_bp_mean_flux_over_error</th><th>phot_rp_mean_mag</th><th>phot_rp_mean_flux_over_error</th><th>parallax</th><th>teff_gspphot</th><th>ruwe</th><th>number_of_neighbours</th><th>number_of_mates</th><th>g_mean_psf_mag</th><th>g_mean_psf_mag_error</th><th>r_mean_psf_mag</th><th>r_mean_psf_mag_error</th><th>i_mean_psf_mag</th><th>i_mean_psf_mag_error</th><th>z_mean_psf_mag</th><th>z_mean_psf_mag_error</th><th>y_mean_psf_mag</th><th>y_mean_psf_mag_error</th><th>j_m</th><th>j_msigcom</th><th>h_m</th><th>h_msigcom</th><th>ks_m</th><th>ks_msigcom</th><th>phot_g_mean_mag_error</th><th>phot_bp_mean_mag_error</th><th>phot_rp_mean_mag_error</th><th>PRV</th><th>PPa</th><th>PPM</th><th>membership</th></tr></thead>\n",
       "<thead><tr><th></th><th>deg</th><th>deg</th><th>mas / yr</th><th>mas / yr</th><th>km / s</th><th>mag</th><th></th><th>mag</th><th></th><th>mag</th><th></th><th>mas</th><th>K</th><th></th><th></th><th></th><th></th><th>mag</th><th>mag</th><th>mag</th><th>mag</th><th>mag</th><th>mag</th><th>mag</th><th>mag</th><th>mag</th><th>mag</th><th>mag</th><th>mag</th><th>mag</th><th>mag</th><th>mag</th><th></th><th></th><th></th><th></th><th></th><th></th><th></th></tr></thead>\n",
       "<thead><tr><th>int64</th><th>float64</th><th>float64</th><th>float64</th><th>float64</th><th>float32</th><th>float32</th><th>float32</th><th>float32</th><th>float32</th><th>float32</th><th>float32</th><th>float64</th><th>float32</th><th>float32</th><th>int16</th><th>int16</th><th>float64</th><th>float64</th><th>float64</th><th>float64</th><th>float64</th><th>float64</th><th>float64</th><th>float64</th><th>float64</th><th>float64</th><th>float32</th><th>float32</th><th>float32</th><th>float32</th><th>float32</th><th>float32</th><th>float32</th><th>float32</th><th>float32</th><th>float64</th><th>float64</th><th>float64</th><th>float64</th></tr></thead>\n",
       "<tr><td>2300190316856449792</td><td>359.98750319791213</td><td>85.27731021181354</td><td>5.577777946544573</td><td>0.8223713177577376</td><td>--</td><td>19.63665</td><td>341.99533</td><td>20.002611</td><td>18.388771</td><td>19.328531</td><td>20.541069</td><td>-0.1341667036106458</td><td>--</td><td>0.94112283</td><td>1</td><td>0</td><td>20.0638008117676</td><td>0.0188410002738237</td><td>19.6161003112793</td><td>0.0171440001577139</td><td>19.4860992431641</td><td>0.0176279991865158</td><td>19.4738998413086</td><td>0.024957999587059</td><td>19.2819995880127</td><td>0.0314869992434978</td><td>--</td><td>--</td><td>--</td><td>--</td><td>--</td><td>--</td><td>0.0042036385</td><td>0.059109326</td><td>0.052991793</td><td>--</td><td>nan</td><td>0.0</td><td>0.0</td></tr>\n",
       "<tr><td>2300190389873017344</td><td>359.98580433917704</td><td>85.29153336809398</td><td>-0.45119658435619325</td><td>-7.369807586160412</td><td>--</td><td>15.3995</td><td>3061.557</td><td>16.214743</td><td>423.20645</td><td>14.515954</td><td>665.11975</td><td>2.6719380963486183</td><td>4465.8047</td><td>1.0373826</td><td>1</td><td>0</td><td>16.5529003143311</td><td>0.00435000006109476</td><td>15.4191999435425</td><td>0.00275099999271333</td><td>14.9090995788574</td><td>0.00281400000676513</td><td>14.6612997055054</td><td>0.0038459999486804</td><td>14.5123996734619</td><td>0.00355900009162724</td><td>13.351</td><td>0.026</td><td>12.689</td><td>0.027</td><td>12.589</td><td>0.024</td><td>0.0027780489</td><td>0.0037903613</td><td>0.004116847</td><td>--</td><td>1.393492588159047e-14</td><td>0.0</td><td>0.0</td></tr>\n",
       "<tr><td>2300194513040635392</td><td>359.9672581412721</td><td>85.35538913265248</td><td>-9.5544722428929</td><td>11.493419487214474</td><td>--</td><td>20.776224</td><td>104.699455</td><td>21.09304</td><td>5.081117</td><td>19.413204</td><td>11.7823105</td><td>0.2914078457257431</td><td>--</td><td>1.2037239</td><td>1</td><td>0</td><td>--</td><td>--</td><td>--</td><td>--</td><td>20.043399810791</td><td>0.0434660017490387</td><td>19.3617000579834</td><td>0.0285819992423058</td><td>19.0830993652344</td><td>0.0577099993824959</td><td>--</td><td>--</td><td>--</td><td>--</td><td>--</td><td>--</td><td>0.01072983</td><td>0.21369882</td><td>0.09222715</td><td>--</td><td>1.9210641383422348e-16</td><td>0.0</td><td>0.0</td></tr>\n",
       "<tr><td>2300195539536739968</td><td>359.9561033834297</td><td>85.38657068886691</td><td>-3.6040957972934886</td><td>-4.830773107328921</td><td>--</td><td>19.797134</td><td>292.3895</td><td>20.890688</td><td>11.483998</td><td>18.660702</td><td>37.19538</td><td>1.6650491955322446</td><td>--</td><td>1.0105067</td><td>1</td><td>0</td><td>21.6236000061035</td><td>0.167224004864693</td><td>20.1315002441406</td><td>0.0238770004361868</td><td>19.0904006958008</td><td>0.0103240003809333</td><td>18.5962009429932</td><td>0.0114460000768304</td><td>18.3631000518799</td><td>0.0377160012722015</td><td>--</td><td>--</td><td>--</td><td>--</td><td>--</td><td>--</td><td>0.00462391</td><td>0.09458455</td><td>0.029433731</td><td>--</td><td>6.174760120055705e-11</td><td>0.0</td><td>0.0</td></tr>\n",
       "<tr><td>2300195543833751936</td><td>359.93715165090276</td><td>85.39148265642352</td><td>-7.484505222627249</td><td>-1.0243014405359296</td><td>--</td><td>17.474413</td><td>1381.5422</td><td>18.050188</td><td>113.562935</td><td>16.749992</td><td>160.39871</td><td>0.45945903459236864</td><td>4855.8975</td><td>0.98020154</td><td>1</td><td>0</td><td>18.2007999420166</td><td>0.00268099992536008</td><td>17.4680004119873</td><td>0.00554100004956126</td><td>17.1201000213623</td><td>0.00322500010952353</td><td>16.9694995880127</td><td>0.00489299977198243</td><td>16.8798999786377</td><td>0.0127280000597239</td><td>15.859</td><td>0.079</td><td>15.547</td><td>0.127</td><td>15.157</td><td>0.138</td><td>0.0028652065</td><td>0.009959477</td><td>0.007752603</td><td>--</td><td>0.13324041474786458</td><td>0.0</td><td>0.0</td></tr>\n",
       "<tr><td>573291861010519936</td><td>17.86475655428175</td><td>84.40895212731938</td><td>-3.1184996834597936</td><td>6.959047729898664</td><td>--</td><td>19.583765</td><td>309.9595</td><td>21.041176</td><td>6.721011</td><td>18.39454</td><td>41.02457</td><td>1.3949384522215436</td><td>--</td><td>0.975186</td><td>1</td><td>0</td><td>21.4948997497559</td><td>0.0286309998482466</td><td>20.2254009246826</td><td>0.0351330004632473</td><td>18.8167991638184</td><td>0.0133720003068447</td><td>18.1676006317139</td><td>0.00936200004070997</td><td>17.8712997436523</td><td>0.0117070004343987</td><td>16.453</td><td>0.115</td><td>15.657</td><td>0.116</td><td>15.62</td><td>0.204</td><td>0.0044566384</td><td>0.16156767</td><td>0.026734002</td><td>--</td><td>2.9527355739392034e-09</td><td>0.0</td><td>0.0</td></tr>\n",
       "<tr><td>573291861010520576</td><td>17.916517386254274</td><td>84.40633591882035</td><td>1.7401034596752953</td><td>-2.190226773476811</td><td>--</td><td>17.22847</td><td>1246.6713</td><td>17.823576</td><td>83.66266</td><td>16.4942</td><td>238.91078</td><td>0.7474290084478957</td><td>4625.978</td><td>0.9977198</td><td>1</td><td>0</td><td>18.0048007965088</td><td>0.0119939995929599</td><td>17.2082996368408</td><td>0.00548599986359477</td><td>16.8505992889404</td><td>0.00378999998793006</td><td>16.6968002319336</td><td>0.00445999996736646</td><td>16.6065998077393</td><td>0.00780799984931946</td><td>15.565</td><td>0.056</td><td>14.943</td><td>0.078</td><td>14.901</td><td>0.116</td><td>0.0028896835</td><td>0.0132741025</td><td>0.0059107053</td><td>--</td><td>0.007948632448398635</td><td>0.0</td><td>0.0</td></tr>\n",
       "<tr><td>573291895370259840</td><td>17.713726259401525</td><td>84.39624631897671</td><td>-1.8946686529665675</td><td>-7.5395803207876355</td><td>--</td><td>16.49964</td><td>1796.7313</td><td>17.499702</td><td>160.9745</td><td>15.511509</td><td>458.50827</td><td>2.1081310245251723</td><td>4258.159</td><td>0.96180755</td><td>1</td><td>0</td><td>17.9071006774902</td><td>0.015930000692606</td><td>16.6242008209229</td><td>0.0154389999806881</td><td>15.9061002731323</td><td>0.00268999999389052</td><td>15.5753002166748</td><td>0.00399000011384487</td><td>15.4057998657227</td><td>0.00819799955934286</td><td>14.256</td><td>0.033</td><td>13.52</td><td>0.032</td><td>13.309</td><td>0.03</td><td>0.0028208063</td><td>0.0072991084</td><td>0.0044599366</td><td>--</td><td>6.5131016729015e-13</td><td>0.0</td><td>0.0</td></tr>\n",
       "<tr><td>573291925433720192</td><td>17.734368007946905</td><td>84.4099217159595</td><td>2.2779979430550634</td><td>-2.655342585387016</td><td>--</td><td>20.88203</td><td>74.91634</td><td>21.352055</td><td>3.0189369</td><td>20.120153</td><td>6.713456</td><td>-5.521896583827261</td><td>--</td><td>1.0310798</td><td>1</td><td>0</td><td>21.2140998840332</td><td>0.225693002343178</td><td>20.7506999969482</td><td>0.0668060034513474</td><td>20.4741992950439</td><td>0.0499820001423359</td><td>20.4218006134033</td><td>0.041363999247551</td><td>19.4442005157471</td><td>0.238887995481491</td><td>--</td><td>--</td><td>--</td><td>--</td><td>--</td><td>--</td><td>0.014752242</td><td>0.3596527</td><td>0.16176952</td><td>--</td><td>nan</td><td>0.0</td><td>0.0</td></tr>\n",
       "<tr><td>...</td><td>...</td><td>...</td><td>...</td><td>...</td><td>...</td><td>...</td><td>...</td><td>...</td><td>...</td><td>...</td><td>...</td><td>...</td><td>...</td><td>...</td><td>...</td><td>...</td><td>...</td><td>...</td><td>...</td><td>...</td><td>...</td><td>...</td><td>...</td><td>...</td><td>...</td><td>...</td><td>...</td><td>...</td><td>...</td><td>...</td><td>...</td><td>...</td><td>...</td><td>...</td><td>...</td><td>...</td><td>...</td><td>...</td><td>...</td></tr>\n",
       "<tr><td>574143638924093568</td><td>6.083496728883296</td><td>86.140786223825</td><td>-1.1108940976024713</td><td>0.5742920127488028</td><td>--</td><td>18.790512</td><td>531.4003</td><td>19.128145</td><td>28.822529</td><td>18.340378</td><td>51.992916</td><td>-0.01086019041733606</td><td>5603.423</td><td>0.89798844</td><td>1</td><td>0</td><td>19.1604995727539</td><td>0.00148199999239296</td><td>18.7777004241943</td><td>0.0108789997175336</td><td>18.6334991455078</td><td>0.00560999987646937</td><td>18.6016998291016</td><td>0.0174160003662109</td><td>18.5886993408203</td><td>0.0253679994493723</td><td>--</td><td>--</td><td>--</td><td>--</td><td>--</td><td>--</td><td>0.003430203</td><td>0.037772894</td><td>0.021221636</td><td>--</td><td>nan</td><td>4.865666916671634e-157</td><td>4.865666916671634e-157</td></tr>\n",
       "<tr><td>574147379840185472</td><td>8.40807345456641</td><td>86.17719038231226</td><td>-4.1393666577673995</td><td>2.0631252358528287</td><td>--</td><td>17.267668</td><td>1432.2345</td><td>17.736599</td><td>116.0781</td><td>16.651577</td><td>198.13829</td><td>0.31467140575843117</td><td>4999.4956</td><td>1.0436335</td><td>1</td><td>0</td><td>17.7898998260498</td><td>0.00607800018042326</td><td>17.2570991516113</td><td>0.00436099991202354</td><td>17.0044994354248</td><td>0.00696199992671609</td><td>16.8861999511719</td><td>0.00738100009039044</td><td>16.8334007263184</td><td>0.00490800011903048</td><td>15.78</td><td>0.07</td><td>15.321</td><td>0.117</td><td>15.451</td><td>0.189</td><td>0.002857702</td><td>0.009760787</td><td>0.0066566295</td><td>--</td><td>1.6870176605483462e-11</td><td>0.0</td><td>0.0</td></tr>\n",
       "<tr><td>574147418494439040</td><td>8.555287353724765</td><td>86.18512094599653</td><td>-0.5898442138451053</td><td>1.009241546763026</td><td>--</td><td>20.473877</td><td>146.94276</td><td>21.121206</td><td>5.78469</td><td>19.382118</td><td>16.321283</td><td>2.457082244439645</td><td>--</td><td>1.0108399</td><td>1</td><td>0</td><td>--</td><td>--</td><td>20.6271991729736</td><td>0.0383899994194508</td><td>19.7513999938965</td><td>0.0128539996221662</td><td>19.3752002716064</td><td>0.0144119998440146</td><td>19.0401000976563</td><td>0.102063000202179</td><td>--</td><td>--</td><td>--</td><td>--</td><td>--</td><td>--</td><td>0.007885855</td><td>0.18771207</td><td>0.06662999</td><td>--</td><td>4.999812334001509e-14</td><td>8.513762457317804e-281</td><td>4.2567214542856554e-294</td></tr>\n",
       "<tr><td>574147418495315968</td><td>8.55338711868483</td><td>86.17528781403783</td><td>-4.657501264725591</td><td>-2.959799891123817</td><td>-60.363136</td><td>14.572898</td><td>5072.1543</td><td>14.985662</td><td>714.7243</td><td>13.994213</td><td>853.04224</td><td>0.9158394830846337</td><td>5705.8486</td><td>0.9752364</td><td>1</td><td>0</td><td>15.0684995651245</td><td>0.00374599988572299</td><td>14.5496997833252</td><td>0.00218699988909066</td><td>14.355299949646</td><td>0.00390099990181625</td><td>14.2859001159668</td><td>0.00393899995833635</td><td>14.2484998703003</td><td>0.00528000015765429</td><td>13.324</td><td>0.025</td><td>13.046</td><td>0.032</td><td>12.898</td><td>0.029</td><td>0.0027636227</td><td>0.003176902</td><td>0.003987944</td><td>3.530344780634212e-17</td><td>7.656624312274877e-05</td><td>0.0</td><td>0.0</td></tr>\n",
       "<tr><td>574147452854178176</td><td>8.224514631088883</td><td>86.17845252851225</td><td>-0.7714678236884762</td><td>-0.19925499320635603</td><td>--</td><td>20.67936</td><td>127.73614</td><td>21.405561</td><td>4.4949727</td><td>19.574863</td><td>17.872452</td><td>0.8686910085745759</td><td>--</td><td>0.93563837</td><td>1</td><td>0</td><td>--</td><td>--</td><td>20.9575996398926</td><td>0.0729800015687943</td><td>19.9675998687744</td><td>0.0320249982178211</td><td>19.5160999298096</td><td>0.0354150012135506</td><td>19.0993995666504</td><td>0.0584510006010532</td><td>--</td><td>--</td><td>--</td><td>--</td><td>--</td><td>--</td><td>0.008935267</td><td>0.24156067</td><td>0.06086659</td><td>--</td><td>0.0002726292100906368</td><td>1.9188238240625876e-130</td><td>5.231274234572783e-134</td></tr>\n",
       "<tr><td>574147452855050752</td><td>8.207612795119914</td><td>86.1882004456714</td><td>-2.312882976629688</td><td>0.03832308036444342</td><td>--</td><td>15.800837</td><td>2947.297</td><td>16.228804</td><td>362.09848</td><td>15.207739</td><td>529.74976</td><td>0.8199397915200586</td><td>5278.5034</td><td>1.0189066</td><td>1</td><td>0</td><td>16.2938003540039</td><td>0.00507500022649765</td><td>15.7754001617432</td><td>0.00226199999451637</td><td>15.5690002441406</td><td>0.0048739998601377</td><td>15.5019998550415</td><td>0.00566399982199073</td><td>15.4301996231079</td><td>0.00934199988842011</td><td>14.489</td><td>0.04</td><td>14.131</td><td>0.051</td><td>14.078</td><td>0.058</td><td>0.0027798372</td><td>0.004095825</td><td>0.0042993356</td><td>--</td><td>0.0010501565294560192</td><td>5.985590362036415e-39</td><td>6.28580680134156e-42</td></tr>\n",
       "<tr><td>574147452855053184</td><td>8.259533680926335</td><td>86.17706443710559</td><td>1.6215739524200383</td><td>-0.061035310975728604</td><td>--</td><td>19.38118</td><td>381.31485</td><td>20.292582</td><td>17.621819</td><td>18.525818</td><td>36.092377</td><td>0.49182732586178723</td><td>--</td><td>1.0185546</td><td>1</td><td>0</td><td>20.4736995697021</td><td>0.061464998871088</td><td>19.4269008636475</td><td>0.018486000597477</td><td>18.8763008117676</td><td>0.0105680003762245</td><td>18.6481990814209</td><td>0.0191050004214048</td><td>18.3687992095947</td><td>0.0459810011088848</td><td>--</td><td>--</td><td>--</td><td>--</td><td>--</td><td>--</td><td>0.003962219</td><td>0.06167632</td><td>0.030318629</td><td>--</td><td>0.27868329815665943</td><td>0.0</td><td>0.0</td></tr>\n",
       "<tr><td>574147590294000896</td><td>8.149341086219522</td><td>86.20667899945698</td><td>-4.101111331170949</td><td>2.0339761687888447</td><td>--</td><td>17.244091</td><td>1328.8248</td><td>17.67849</td><td>122.585526</td><td>16.654589</td><td>130.19724</td><td>0.3210438595849465</td><td>5012.671</td><td>1.039565</td><td>1</td><td>0</td><td>17.7234992980957</td><td>0.00649299984797835</td><td>17.2199001312256</td><td>0.0030749998986721</td><td>17.0118999481201</td><td>0.00532299978658557</td><td>16.9351005554199</td><td>0.00620099995285273</td><td>16.9051990509033</td><td>0.0060419999063015</td><td>15.859</td><td>0.072</td><td>15.331</td><td>0.111</td><td>15.532</td><td>0.211</td><td>0.0028739145</td><td>0.009286062</td><td>0.009155621</td><td>--</td><td>2.0855926178867192e-10</td><td>0.0</td><td>0.0</td></tr>\n",
       "<tr><td>574147590294001408</td><td>8.349416916574219</td><td>86.20826074807901</td><td>24.475740393107206</td><td>18.5916433730258</td><td>--</td><td>18.664925</td><td>350.81302</td><td>19.698027</td><td>22.739443</td><td>17.589783</td><td>99.0452</td><td>0.45110548198809686</td><td>4073.0728</td><td>1.3780215</td><td>1</td><td>0</td><td>20.1450996398926</td><td>0.0409709997475147</td><td>18.7611999511719</td><td>0.0174289997667074</td><td>17.9897994995117</td><td>0.0118909999728203</td><td>17.6315994262695</td><td>0.00499700009822845</td><td>17.4680004119873</td><td>0.0197640005499125</td><td>16.167</td><td>0.108</td><td>15.807</td><td>0.186</td><td>15.681</td><td>0.255</td><td>0.004143704</td><td>0.047828276</td><td>0.011595248</td><td>--</td><td>0.09679339285922026</td><td>0.0</td><td>0.0</td></tr>\n",
       "<tr><td>574147654717646336</td><td>8.005657073907603</td><td>86.19561910669104</td><td>-4.240650085784521</td><td>4.85054344354167</td><td>--</td><td>20.105804</td><td>235.37285</td><td>20.83683</td><td>8.419028</td><td>19.203287</td><td>16.373648</td><td>0.007402421843758625</td><td>--</td><td>1.0294869</td><td>1</td><td>0</td><td>21.5000991821289</td><td>0.111993998289108</td><td>20.0988006591797</td><td>0.0411790013313293</td><td>19.5653991699219</td><td>0.026010999456048</td><td>19.1979999542236</td><td>0.0202419999986887</td><td>18.5809001922607</td><td>0.0709370002150536</td><td>--</td><td>--</td><td>--</td><td>--</td><td>--</td><td>--</td><td>0.0053730845</td><td>0.12899235</td><td>0.06641759</td><td>--</td><td>0.0</td><td>0.0</td><td>0.0</td></tr>\n",
       "</table></div>"
      ],
      "text/plain": [
       "<Table length=32956>\n",
       "     source_id              ra         ...        membership      \n",
       "                           deg         ...                        \n",
       "       int64             float64       ...         float64        \n",
       "------------------- ------------------ ... -----------------------\n",
       "2300190316856449792 359.98750319791213 ...                     0.0\n",
       "2300190389873017344 359.98580433917704 ...                     0.0\n",
       "2300194513040635392  359.9672581412721 ...                     0.0\n",
       "2300195539536739968  359.9561033834297 ...                     0.0\n",
       "2300195543833751936 359.93715165090276 ...                     0.0\n",
       " 573291861010519936  17.86475655428175 ...                     0.0\n",
       " 573291861010520576 17.916517386254274 ...                     0.0\n",
       " 573291895370259840 17.713726259401525 ...                     0.0\n",
       " 573291925433720192 17.734368007946905 ...                     0.0\n",
       "                ...                ... ...                     ...\n",
       " 574143638924093568  6.083496728883296 ...  4.865666916671634e-157\n",
       " 574147379840185472   8.40807345456641 ...                     0.0\n",
       " 574147418494439040  8.555287353724765 ... 4.2567214542856554e-294\n",
       " 574147418495315968   8.55338711868483 ...                     0.0\n",
       " 574147452854178176  8.224514631088883 ...  5.231274234572783e-134\n",
       " 574147452855050752  8.207612795119914 ...    6.28580680134156e-42\n",
       " 574147452855053184  8.259533680926335 ...                     0.0\n",
       " 574147590294000896  8.149341086219522 ...                     0.0\n",
       " 574147590294001408  8.349416916574219 ...                     0.0\n",
       " 574147654717646336  8.005657073907603 ...                     0.0"
      ]
     },
     "execution_count": 122,
     "metadata": {},
     "output_type": "execute_result"
    }
   ],
   "source": [
    "data = ascii.read('NGC188_Gaia_r1deg.ecsv')\n",
    "data"
   ]
  },
  {
   "cell_type": "code",
   "execution_count": 163,
   "id": "4875a9cd",
   "metadata": {},
   "outputs": [],
   "source": []
  },
  {
   "cell_type": "code",
   "execution_count": null,
   "id": "1426d023",
   "metadata": {},
   "outputs": [],
   "source": []
  },
  {
   "cell_type": "code",
   "execution_count": null,
   "id": "4845b5eb",
   "metadata": {},
   "outputs": [],
   "source": []
  },
  {
   "cell_type": "code",
   "execution_count": null,
   "id": "d4c38b54",
   "metadata": {},
   "outputs": [],
   "source": []
  },
  {
   "cell_type": "code",
   "execution_count": null,
   "id": "a8c98c13",
   "metadata": {},
   "outputs": [],
   "source": []
  },
  {
   "cell_type": "code",
   "execution_count": null,
   "id": "ec817223",
   "metadata": {},
   "outputs": [],
   "source": []
  },
  {
   "cell_type": "code",
   "execution_count": null,
   "id": "0c3b6c7a",
   "metadata": {},
   "outputs": [],
   "source": []
  },
  {
   "cell_type": "code",
   "execution_count": null,
   "id": "78be6612",
   "metadata": {},
   "outputs": [],
   "source": []
  },
  {
   "cell_type": "code",
   "execution_count": null,
   "id": "4cab46c1",
   "metadata": {},
   "outputs": [],
   "source": []
  },
  {
   "cell_type": "code",
   "execution_count": null,
   "id": "8ebcb486",
   "metadata": {},
   "outputs": [],
   "source": []
  },
  {
   "cell_type": "code",
   "execution_count": null,
   "id": "a8599936",
   "metadata": {},
   "outputs": [],
   "source": []
  }
 ],
 "metadata": {
  "kernelspec": {
   "display_name": "Python 3 (ipykernel)",
   "language": "python",
   "name": "python3"
  },
  "language_info": {
   "codemirror_mode": {
    "name": "ipython",
    "version": 3
   },
   "file_extension": ".py",
   "mimetype": "text/x-python",
   "name": "python",
   "nbconvert_exporter": "python",
   "pygments_lexer": "ipython3",
   "version": "3.10.4"
  }
 },
 "nbformat": 4,
 "nbformat_minor": 5
}
