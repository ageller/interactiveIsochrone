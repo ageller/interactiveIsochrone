{
 "cells": [
  {
   "cell_type": "markdown",
   "id": "751892de",
   "metadata": {},
   "source": [
    "# Testing the Bokeh script"
   ]
  },
  {
   "cell_type": "code",
   "execution_count": null,
   "id": "50debab7",
   "metadata": {},
   "outputs": [],
   "source": [
    "from bokeh.plotting import *"
   ]
  },
  {
   "cell_type": "code",
   "execution_count": null,
   "id": "1b4867f0",
   "metadata": {},
   "outputs": [],
   "source": [
    "import matplotlib.pyplot as plt\n",
    "\n",
    "%matplotlib inline"
   ]
  },
  {
   "cell_type": "code",
   "execution_count": null,
   "id": "2f90c618",
   "metadata": {
    "scrolled": true
   },
   "outputs": [],
   "source": [
    "%load_ext autoreload\n",
    "%autoreload 2\n",
    "\n",
    "from interactiveIsochrone import createInteractiveIsochrone, getModelGrid, interpolateModel"
   ]
  },
  {
   "cell_type": "code",
   "execution_count": null,
   "id": "790fb4ac",
   "metadata": {},
   "outputs": [],
   "source": [
    "import numpy as np"
   ]
  },
  {
   "cell_type": "code",
   "execution_count": null,
   "id": "49b5195c",
   "metadata": {},
   "outputs": [],
   "source": [
    "df = interpolateModel(np.log10(7e9), 0.5, 'PARSEC.model')"
   ]
  },
  {
   "cell_type": "code",
   "execution_count": null,
   "id": "84c18736",
   "metadata": {},
   "outputs": [],
   "source": [
    "f, ax = plt.subplots()\n",
    "ax.plot(df['phot_bp_mean_mag'] - df['phot_rp_mean_mag'], df['phot_g_mean_mag'], '.')\n",
    "plt.gca().invert_yaxis()"
   ]
  },
  {
   "cell_type": "code",
   "execution_count": null,
   "id": "437e0442",
   "metadata": {},
   "outputs": [],
   "source": [
    "output_notebook() # run in the notebook"
   ]
  },
  {
   "cell_type": "code",
   "execution_count": null,
   "id": "24391e21",
   "metadata": {
    "scrolled": false
   },
   "outputs": [],
   "source": [
    "layout = createInteractiveIsochrone('NGC188_Gaia_r1deg.ecsv', 'PARSEC.model', initialGuess = [np.log10(6e9), 0, 11, 0.2],\n",
    "                                   mag = 'phot_g_mean_mag', color1 = 'phot_bp_mean_mag', color2 = 'phot_rp_mean_mag')\n",
    "\n",
    "# in order to run a Python callback in a Jupyter notbook, you need to include the following\n",
    "def bkapp(doc):\n",
    "    doc.add_root(layout)\n",
    "\n",
    "show(bkapp)"
   ]
  }
 ],
 "metadata": {
  "kernelspec": {
   "display_name": "Python 3 (ipykernel)",
   "language": "python",
   "name": "python3"
  },
  "language_info": {
   "codemirror_mode": {
    "name": "ipython",
    "version": 3
   },
   "file_extension": ".py",
   "mimetype": "text/x-python",
   "name": "python",
   "nbconvert_exporter": "python",
   "pygments_lexer": "ipython3",
   "version": "3.10.4"
  }
 },
 "nbformat": 4,
 "nbformat_minor": 5
}
